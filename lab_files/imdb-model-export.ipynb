{
 "cells": [
  {
   "cell_type": "markdown",
   "metadata": {},
   "source": [
    "# IMDB"
   ]
  },
  {
   "cell_type": "code",
   "execution_count": 1,
   "metadata": {},
   "outputs": [],
   "source": [
    "%reload_ext autoreload\n",
    "%autoreload 2\n",
    "%matplotlib inline"
   ]
  },
  {
   "cell_type": "code",
   "execution_count": 89,
   "metadata": {},
   "outputs": [
    {
     "name": "stdout",
     "output_type": "stream",
     "text": [
      "mkdir: cannot create directory ‘exported_models’: File exists\n",
      "mkdir: cannot create directory ‘exported_models/language_model_learner’: File exists\n",
      "mkdir: cannot create directory ‘exported_models/language_classifier_learner’: File exists\n"
     ]
    }
   ],
   "source": [
    "!mkdir exported_models\n",
    "!mkdir exported_models/language_model_learner\n",
    "!mkdir exported_models/language_classifier_learner\n",
    "!mkdir exported_models/classifier_first"
   ]
  },
  {
   "cell_type": "code",
   "execution_count": 2,
   "metadata": {},
   "outputs": [],
   "source": [
    "from fastai.text import *"
   ]
  },
  {
   "cell_type": "markdown",
   "metadata": {},
   "source": [
    "## Preparing the data"
   ]
  },
  {
   "cell_type": "markdown",
   "metadata": {},
   "source": [
    "First let's download the dataset we are going to study. The [dataset](http://ai.stanford.edu/~amaas/data/sentiment/) has been curated by Andrew Maas et al. and contains a total of 100,000 reviews on IMDB. 25,000 of them are labelled as positive and negative for training, another 25,000 are labelled for testing (in both cases they are highly polarized). The remaning 50,000 is an additional unlabelled data (but we will find a use for it nonetheless).\n",
    "\n",
    "We'll begin with a sample we've prepared for you, so that things run quickly before going over the full dataset."
   ]
  },
  {
   "cell_type": "code",
   "execution_count": 5,
   "metadata": {},
   "outputs": [
    {
     "data": {
      "text/plain": [
       "[PosixPath('/home/jupyter/.fastai/data/imdb_sample/data_lm.pkl'),\n",
       " PosixPath('/home/jupyter/.fastai/data/imdb_sample/data_save.pkl'),\n",
       " PosixPath('/home/jupyter/.fastai/data/imdb_sample/models'),\n",
       " PosixPath('/home/jupyter/.fastai/data/imdb_sample/texts.csv')]"
      ]
     },
     "execution_count": 5,
     "metadata": {},
     "output_type": "execute_result"
    }
   ],
   "source": [
    "path = untar_data(URLs.IMDB_SAMPLE)\n",
    "path.ls()"
   ]
  },
  {
   "cell_type": "markdown",
   "metadata": {},
   "source": [
    "It only contains one csv file, let's have a look at it."
   ]
  },
  {
   "cell_type": "code",
   "execution_count": 6,
   "metadata": {},
   "outputs": [
    {
     "data": {
      "text/html": [
       "<div>\n",
       "<style scoped>\n",
       "    .dataframe tbody tr th:only-of-type {\n",
       "        vertical-align: middle;\n",
       "    }\n",
       "\n",
       "    .dataframe tbody tr th {\n",
       "        vertical-align: top;\n",
       "    }\n",
       "\n",
       "    .dataframe thead th {\n",
       "        text-align: right;\n",
       "    }\n",
       "</style>\n",
       "<table border=\"1\" class=\"dataframe\">\n",
       "  <thead>\n",
       "    <tr style=\"text-align: right;\">\n",
       "      <th></th>\n",
       "      <th>label</th>\n",
       "      <th>text</th>\n",
       "      <th>is_valid</th>\n",
       "    </tr>\n",
       "  </thead>\n",
       "  <tbody>\n",
       "    <tr>\n",
       "      <th>0</th>\n",
       "      <td>negative</td>\n",
       "      <td>Un-bleeping-believable! Meg Ryan doesn't even ...</td>\n",
       "      <td>False</td>\n",
       "    </tr>\n",
       "    <tr>\n",
       "      <th>1</th>\n",
       "      <td>positive</td>\n",
       "      <td>This is a extremely well-made film. The acting...</td>\n",
       "      <td>False</td>\n",
       "    </tr>\n",
       "    <tr>\n",
       "      <th>2</th>\n",
       "      <td>negative</td>\n",
       "      <td>Every once in a long while a movie will come a...</td>\n",
       "      <td>False</td>\n",
       "    </tr>\n",
       "    <tr>\n",
       "      <th>3</th>\n",
       "      <td>positive</td>\n",
       "      <td>Name just says it all. I watched this movie wi...</td>\n",
       "      <td>False</td>\n",
       "    </tr>\n",
       "    <tr>\n",
       "      <th>4</th>\n",
       "      <td>negative</td>\n",
       "      <td>This movie succeeds at being one of the most u...</td>\n",
       "      <td>False</td>\n",
       "    </tr>\n",
       "  </tbody>\n",
       "</table>\n",
       "</div>"
      ],
      "text/plain": [
       "      label                                               text  is_valid\n",
       "0  negative  Un-bleeping-believable! Meg Ryan doesn't even ...     False\n",
       "1  positive  This is a extremely well-made film. The acting...     False\n",
       "2  negative  Every once in a long while a movie will come a...     False\n",
       "3  positive  Name just says it all. I watched this movie wi...     False\n",
       "4  negative  This movie succeeds at being one of the most u...     False"
      ]
     },
     "execution_count": 6,
     "metadata": {},
     "output_type": "execute_result"
    }
   ],
   "source": [
    "df = pd.read_csv(path/'texts.csv')\n",
    "df.head()"
   ]
  },
  {
   "cell_type": "code",
   "execution_count": 7,
   "metadata": {},
   "outputs": [
    {
     "data": {
      "text/plain": [
       "'This is a extremely well-made film. The acting, script and camera-work are all first-rate. The music is good, too, though it is mostly early in the film, when things are still relatively cheery. There are no really superstars in the cast, though several faces will be familiar. The entire cast does an excellent job with the script.<br /><br />But it is hard to watch, because there is no good end to a situation like the one presented. It is now fashionable to blame the British for setting Hindus and Muslims against each other, and then cruelly separating them into two countries. There is some merit in this view, but it\\'s also true that no one forced Hindus and Muslims in the region to mistreat each other as they did around the time of partition. It seems more likely that the British simply saw the tensions between the religions and were clever enough to exploit them to their own ends.<br /><br />The result is that there is much cruelty and inhumanity in the situation and this is very unpleasant to remember and to see on the screen. But it is never painted as a black-and-white case. There is baseness and nobility on both sides, and also the hope for change in the younger generation.<br /><br />There is redemption of a sort, in the end, when Puro has to make a hard choice between a man who has ruined her life, but also truly loved her, and her family which has disowned her, then later come looking for her. But by that point, she has no option that is without great pain for her.<br /><br />This film carries the message that both Muslims and Hindus have their grave faults, and also that both can be dignified and caring people. The reality of partition makes that realisation all the more wrenching, since there can never be real reconciliation across the India/Pakistan border. In that sense, it is similar to \"Mr & Mrs Iyer\".<br /><br />In the end, we were glad to have seen the film, even though the resolution was heartbreaking. If the UK and US could deal with their own histories of racism with this kind of frankness, they would certainly be better off.'"
      ]
     },
     "execution_count": 7,
     "metadata": {},
     "output_type": "execute_result"
    }
   ],
   "source": [
    "df['text'][1]"
   ]
  },
  {
   "cell_type": "markdown",
   "metadata": {},
   "source": [
    "It contains one line per review, with the label ('negative' or 'positive'), the text and a flag to determine if it should be part of the validation set or the training set. If we ignore this flag, we can create a DataBunch containing this data in one line of code:"
   ]
  },
  {
   "cell_type": "code",
   "execution_count": 8,
   "metadata": {},
   "outputs": [],
   "source": [
    "data_lm = TextDataBunch.from_csv(path, 'texts.csv')"
   ]
  },
  {
   "cell_type": "markdown",
   "metadata": {},
   "source": [
    "By executing this line a process was launched that took a bit of time. Let's dig a bit into it. Images could be fed (almost) directly into a model because they're just a big array of pixel values that are floats between 0 and 1. A text is composed of words, and we can't apply mathematical functions to them directly. We first have to convert them to numbers. This is done in two differents steps: tokenization and numericalization. A `TextDataBunch` does all of that behind the scenes for you.\n",
    "\n",
    "Before we delve into the explanations, let's take the time to save the things that were calculated."
   ]
  },
  {
   "cell_type": "code",
   "execution_count": 50,
   "metadata": {},
   "outputs": [],
   "source": [
    "data_lm.save()"
   ]
  },
  {
   "cell_type": "markdown",
   "metadata": {},
   "source": [
    "Next time we launch this notebook, we can skip the cell above that took a bit of time (and that will take a lot more when you get to the full dataset) and load those results like this:"
   ]
  },
  {
   "cell_type": "code",
   "execution_count": 9,
   "metadata": {},
   "outputs": [],
   "source": [
    "data = load_data(path)"
   ]
  },
  {
   "cell_type": "markdown",
   "metadata": {},
   "source": [
    "### Tokenization"
   ]
  },
  {
   "cell_type": "markdown",
   "metadata": {},
   "source": [
    "The first step of processing we make the texts go through is to split the raw sentences into words, or more exactly tokens. The easiest way to do this would be to split the string on spaces, but we can be smarter:\n",
    "\n",
    "- we need to take care of punctuation\n",
    "- some words are contractions of two different words, like isn't or don't\n",
    "- we may need to clean some parts of our texts, if there's HTML code for instance\n",
    "\n",
    "To see what the tokenizer had done behind the scenes, let's have a look at a few texts in a batch."
   ]
  },
  {
   "cell_type": "code",
   "execution_count": 52,
   "metadata": {},
   "outputs": [
    {
     "data": {
      "text/html": [
       "<table border=\"1\" class=\"dataframe\">\n",
       "  <thead>\n",
       "    <tr style=\"text-align: right;\">\n",
       "      <th>text</th>\n",
       "      <th>target</th>\n",
       "    </tr>\n",
       "  </thead>\n",
       "  <tbody>\n",
       "    <tr>\n",
       "      <td>xxbos xxmaj now that xxmaj che(2008 ) has finished its relatively short xxmaj australian cinema run ( extremely limited xxunk screen in xxmaj sydney , after xxunk ) , i can xxunk join both xxunk of \" xxmaj at xxmaj the xxmaj movies \" in taking xxmaj steven xxmaj soderbergh to task . \\n \\n  xxmaj it 's usually satisfying to watch a film director change his style /</td>\n",
       "      <td>negative</td>\n",
       "    </tr>\n",
       "    <tr>\n",
       "      <td>xxbos xxmaj many neglect that this is n't just a classic due to the fact that it 's the first xxup 3d game , or even the first xxunk - up . xxmaj it 's also one of the first stealth games , one of the xxunk definitely the first ) truly claustrophobic games , and just a pretty well - rounded gaming experience in general . xxmaj with graphics</td>\n",
       "      <td>positive</td>\n",
       "    </tr>\n",
       "    <tr>\n",
       "      <td>xxbos i really wanted to love this show . i truly , honestly did . \\n \\n  xxmaj for the first time , gay viewers get their own version of the \" xxmaj the xxmaj bachelor \" . xxmaj with the help of his obligatory \" hag \" xxmaj xxunk , xxmaj james , a good looking , well - to - do thirty - something has the chance</td>\n",
       "      <td>negative</td>\n",
       "    </tr>\n",
       "    <tr>\n",
       "      <td>xxbos xxmaj how viewers react to this new \" adaption \" of xxmaj shirley xxmaj jackson 's book , which was promoted as xxup not being a remake of the original 1963 movie ( true enough ) , will be based , i suspect , on the following : those who were big fans of either the book or original movie are not going to think much of this one</td>\n",
       "      <td>negative</td>\n",
       "    </tr>\n",
       "    <tr>\n",
       "      <td>xxbos xxmaj the trouble with the book , \" xxmaj memoirs of a xxmaj geisha \" is that it had xxmaj japanese surfaces but underneath the surfaces it was all an xxmaj american man 's way of thinking . xxmaj reading the book is like watching a magnificent ballet with great music , sets , and costumes yet performed by xxunk animals dressed in those xxunk far from xxmaj japanese</td>\n",
       "      <td>negative</td>\n",
       "    </tr>\n",
       "  </tbody>\n",
       "</table>"
      ],
      "text/plain": [
       "<IPython.core.display.HTML object>"
      ]
     },
     "metadata": {},
     "output_type": "display_data"
    }
   ],
   "source": [
    "data = TextClasDataBunch.from_csv(path, 'texts.csv')\n",
    "data.show_batch()"
   ]
  },
  {
   "cell_type": "markdown",
   "metadata": {},
   "source": [
    "The texts are truncated at 100 tokens for more readability. We can see that it did more than just split on space and punctuation symbols: \n",
    "- the \"'s\" are grouped together in one token\n",
    "- the contractions are separated like this: \"did\", \"n't\"\n",
    "- content has been cleaned for any HTML symbol and lower cased\n",
    "- there are several special tokens (all those that begin by xx), to replace unknown tokens (see below) or to introduce different text fields (here we only have one)."
   ]
  },
  {
   "cell_type": "markdown",
   "metadata": {},
   "source": [
    "### Numericalization"
   ]
  },
  {
   "cell_type": "markdown",
   "metadata": {},
   "source": [
    "Once we have extracted tokens from our texts, we convert to integers by creating a list of all the words used. We only keep the ones that appear at least twice with a maximum vocabulary size of 60,000 (by default) and replace the ones that don't make the cut by the unknown token `UNK`.\n",
    "\n",
    "The correspondance from ids to tokens is stored in the `vocab` attribute of our datasets, in a dictionary called `itos` (for int to string)."
   ]
  },
  {
   "cell_type": "code",
   "execution_count": 53,
   "metadata": {},
   "outputs": [
    {
     "data": {
      "text/plain": [
       "['xxunk',\n",
       " 'xxpad',\n",
       " 'xxbos',\n",
       " 'xxeos',\n",
       " 'xxfld',\n",
       " 'xxmaj',\n",
       " 'xxup',\n",
       " 'xxrep',\n",
       " 'xxwrep',\n",
       " 'the']"
      ]
     },
     "execution_count": 53,
     "metadata": {},
     "output_type": "execute_result"
    }
   ],
   "source": [
    "data.vocab.itos[:10]"
   ]
  },
  {
   "cell_type": "markdown",
   "metadata": {},
   "source": [
    "And if we look at what a what's in our datasets, we'll see the tokenized text as a representation:"
   ]
  },
  {
   "cell_type": "code",
   "execution_count": 54,
   "metadata": {},
   "outputs": [
    {
     "data": {
      "text/plain": [
       "Text xxbos xxmaj the 1930s saw a xxunk for documentary films about remote xxunk of the world , with an emphasis on wild animals , exotic terrain and primitive people with unusual xxunk . xxmaj despite the xxunk of xxunk a film crew to a distant and dangerous place , and then bringing 'em back alive ( with the film footage ) , such films were often much cheaper to make than were conventional xxmaj hollywood features ... because there were no expensive sets , costumes , or high - xxunk movie stars . \n",
       " \n",
       "  xxmaj the most successful makers of such films ( xxunk and xxunk ) were the team of xxmaj martin xxup e. xxmaj johnson and his wife xxmaj osa , who made several documentaries ( sometimes with blatantly staged events ) in xxmaj africa and xxmaj asia . xxmaj the xxmaj johnsons ' safari films were extremely popular , inspiring several parodies ... most notably xxmaj wheeler & xxmaj xxunk 's \" xxmaj so xxmaj this is xxmaj africa \" , in which the very sexy xxmaj esther xxmaj muir plays a character named xxmaj mrs. xxmaj johnson - xxmaj xxunk ( instead of xxmaj martin xxup e. xxmaj johnson , xxunk ? ) . xxmaj although several other filmmakers were producing safari documentaries at this time , the xxmaj johnsons ' films were the most popular in this genre because they xxunk heavily on humour . xxmaj viewed from our own more enlightened ( i hope ) standpoint , this is a serious flaw in the xxmaj johnsons ' documentaries : there are too many scenes in which the funny little brown or yellow people are made to look complete idiots who are easily xxunk by the clever white xxunk xxmaj johnson and his wife . \n",
       " \n",
       "  xxmaj one definite asset of these movies is the presence of xxmaj osa xxmaj johnson . xxmaj ten years younger than her husband , she manages to seem young enough to be his daughter . xxmaj while certainly not as attractive as the xxunk blond xxmaj esther xxmaj muir , xxmaj osa xxmaj johnson was a pert brunette who gave xxunk performances in front of the camera in all the films she co - produced with her husband . \n",
       " \n",
       "  ' xxmaj congorilla ' is probably the best of the xxmaj johnsons ' films . xxmaj the shots of the xxmaj xxunk are interesting and have some historical value as evidence of what this environment looked like in 1930 . xxmaj the shots of the xxmaj xxunk and other natives are also interesting , although these suffer from the xxmaj johnsons ' xxunk to stage events in a manner that makes the natives look ' wild ' and alien . \n",
       " \n",
       "  xxmaj the best ( and funniest ) scene in ' xxmaj congorilla ' is an improvised sequence in which xxmaj osa xxmaj johnson attempts to teach a jazz dance to some xxmaj xxunk women . ( xxmaj the dance is the xxmaj black xxmaj bottom , no less ... the same dance which xxmaj bob xxmaj hope famously taught to xxmaj daisy and xxmaj violet xxmaj hilton , the xxunk twins . ) xxmaj wearing xxunk , riding boots , and a xxunk xxunk , xxmaj osa xxmaj johnson starts xxunk - singing while she does high steps and xxunk her knees in her attempt to teach this dance to the xxmaj african women . xxmaj meanwhile , they just stand there staring at her , apparently wondering what this crazy white woman is trying to accomplish . xxmaj it 's a very funny scene , but it has unpleasant undertones . xxmaj osa xxmaj johnson is doing a dance that was invented by black xxmaj americans : the implication seems to be that black xxmaj africans should xxunk be able to perform this dance after a brief xxunk ( using natural xxunk , i guess ) because it 's in their blood , or something . \n",
       " \n",
       "  i 'll rate ' xxmaj congorilla ' 4 points out of 10 . xxmaj this film says a little bit about xxmaj african life in the 1930s and rather more about xxmaj american cultural xxunk in that same decade ."
      ]
     },
     "execution_count": 54,
     "metadata": {},
     "output_type": "execute_result"
    }
   ],
   "source": [
    "data.train_ds[0][0]"
   ]
  },
  {
   "cell_type": "markdown",
   "metadata": {},
   "source": [
    "But the underlying data is all numbers"
   ]
  },
  {
   "cell_type": "code",
   "execution_count": 55,
   "metadata": {},
   "outputs": [
    {
     "data": {
      "text/plain": [
       "array([   2,    5,    9, 4609,  254,   13,    0,   27,  656,  131])"
      ]
     },
     "execution_count": 55,
     "metadata": {},
     "output_type": "execute_result"
    }
   ],
   "source": [
    "data.train_ds[0][0].data[:10]"
   ]
  },
  {
   "cell_type": "markdown",
   "metadata": {},
   "source": [
    "### With the data block API"
   ]
  },
  {
   "cell_type": "markdown",
   "metadata": {},
   "source": [
    "We can use the data block API with NLP and have a lot more flexibility than what the default factory methods offer. In the previous example for instance, the data was randomly split between train and validation instead of reading the third column of the csv.\n",
    "\n",
    "With the data block API though, we have to manually call the tokenize and numericalize steps. This allows more flexibility, and if you're not using the defaults from fastai, the various arguments to pass will appear in the step they're revelant, so it'll be more readable."
   ]
  },
  {
   "cell_type": "code",
   "execution_count": 10,
   "metadata": {},
   "outputs": [],
   "source": [
    "data = (TextList.from_csv(path, 'texts.csv', cols='text')\n",
    "                .split_from_df(col=2)\n",
    "                .label_from_df(cols=0)\n",
    "                .databunch())"
   ]
  },
  {
   "cell_type": "markdown",
   "metadata": {},
   "source": [
    "## Language model"
   ]
  },
  {
   "cell_type": "markdown",
   "metadata": {},
   "source": [
    "Note that language models can use a lot of GPU, so you may need to decrease batchsize here."
   ]
  },
  {
   "cell_type": "code",
   "execution_count": 5,
   "metadata": {},
   "outputs": [],
   "source": [
    "#bs=48\n",
    "bs=10\n"
   ]
  },
  {
   "cell_type": "markdown",
   "metadata": {},
   "source": [
    "Now let's grab the full dataset for what follows."
   ]
  },
  {
   "cell_type": "code",
   "execution_count": 12,
   "metadata": {},
   "outputs": [
    {
     "data": {
      "text/plain": [
       "[PosixPath('/home/jupyter/.fastai/data/imdb/tmp_clas'),\n",
       " PosixPath('/home/jupyter/.fastai/data/imdb/unsup'),\n",
       " PosixPath('/home/jupyter/.fastai/data/imdb/imdb.vocab'),\n",
       " PosixPath('/home/jupyter/.fastai/data/imdb/tmp_lm'),\n",
       " PosixPath('/home/jupyter/.fastai/data/imdb/data_lm.pkl'),\n",
       " PosixPath('/home/jupyter/.fastai/data/imdb/test'),\n",
       " PosixPath('/home/jupyter/.fastai/data/imdb/data_clas.pkl'),\n",
       " PosixPath('/home/jupyter/.fastai/data/imdb/models'),\n",
       " PosixPath('/home/jupyter/.fastai/data/imdb/train'),\n",
       " PosixPath('/home/jupyter/.fastai/data/imdb/test_export'),\n",
       " PosixPath('/home/jupyter/.fastai/data/imdb/README'),\n",
       " PosixPath('/home/jupyter/.fastai/data/imdb/test_export.pkl')]"
      ]
     },
     "execution_count": 12,
     "metadata": {},
     "output_type": "execute_result"
    }
   ],
   "source": [
    "path = untar_data(URLs.IMDB)\n",
    "path.ls()"
   ]
  },
  {
   "cell_type": "code",
   "execution_count": 13,
   "metadata": {},
   "outputs": [
    {
     "data": {
      "text/plain": [
       "[PosixPath('/home/jupyter/.fastai/data/imdb/train/labeledBow.feat'),\n",
       " PosixPath('/home/jupyter/.fastai/data/imdb/train/pos'),\n",
       " PosixPath('/home/jupyter/.fastai/data/imdb/train/unsupBow.feat'),\n",
       " PosixPath('/home/jupyter/.fastai/data/imdb/train/neg')]"
      ]
     },
     "execution_count": 13,
     "metadata": {},
     "output_type": "execute_result"
    }
   ],
   "source": [
    "(path/'train').ls()"
   ]
  },
  {
   "cell_type": "markdown",
   "metadata": {},
   "source": [
    "The reviews are in a training and test set following an imagenet structure. The only difference is that there is an `unsup` folder on top of `train` and `test` that contains the unlabelled data.\n",
    "\n",
    "We're not going to train a model that classifies the reviews from scratch. Like in computer vision, we'll use a model pretrained on a bigger dataset (a cleaned subset of wikipedia called [wikitext-103](https://einstein.ai/research/blog/the-wikitext-long-term-dependency-language-modeling-dataset)). That model has been trained to guess what the next word is, its input being all the previous words. It has a recurrent structure and a hidden state that is updated each time it sees a new word. This hidden state thus contains information about the sentence up to that point.\n",
    "\n",
    "We are going to use that 'knowledge' of the English language to build our classifier, but first, like for computer vision, we need to fine-tune the pretrained model to our particular dataset. Because the English of the reviews left by people on IMDB isn't the same as the English of wikipedia, we'll need to adjust the parameters of our model by a little bit. Plus there might be some words that would be extremely common in the reviews dataset but would be barely present in wikipedia, and therefore might not be part of the vocabulary the model was trained on."
   ]
  },
  {
   "cell_type": "markdown",
   "metadata": {},
   "source": [
    "This is where the unlabelled data is going to be useful to us, as we can use it to fine-tune our model. Let's create our data object with the data block API (next line takes a few minutes).\n",
    "\n"
   ]
  },
  {
   "cell_type": "code",
   "execution_count": 60,
   "metadata": {},
   "outputs": [
    {
     "name": "stdout",
     "output_type": "stream",
     "text": [
      "CPU times: user 34 s, sys: 12.4 s, total: 46.4 s\n",
      "Wall time: 1min 12s\n"
     ]
    }
   ],
   "source": [
    "%%time\n",
    "\n",
    "data_lm = (TextList.from_folder(path)\n",
    "           #Inputs: all the text files in path\n",
    "            .filter_by_folder(include=['train', 'test', 'unsup']) \n",
    "           #We may have other temp folders that contain text files so we only keep what's in train and test\n",
    "            .split_by_rand_pct(0.1)\n",
    "           #We randomly split and keep 10% (10,000 reviews) for validation\n",
    "            .label_for_lm()           \n",
    "           #We want to do a language model so we label accordingly\n",
    "            .databunch(bs=bs))\n",
    "data_lm.save('data_lm.pkl')"
   ]
  },
  {
   "cell_type": "markdown",
   "metadata": {},
   "source": [
    "We have to use a special kind of `TextDataBunch` for the language model, that ignores the labels (that's why we put 0 everywhere), will shuffle the texts at each epoch before concatenating them all together (only for training, we don't shuffle for the validation set) and will send batches that read that text in order with targets that are the next word in the sentence.\n",
    "\n",
    "## The line before being a bit long, we want to load quickly the final ids by using the following cell."
   ]
  },
  {
   "cell_type": "code",
   "execution_count": 6,
   "metadata": {},
   "outputs": [],
   "source": [
    "data_lm = load_data(path, 'data_lm.pkl', bs=bs)"
   ]
  },
  {
   "cell_type": "code",
   "execution_count": 7,
   "metadata": {},
   "outputs": [
    {
     "data": {
      "text/html": [
       "<table border=\"1\" class=\"dataframe\">\n",
       "  <thead>\n",
       "    <tr style=\"text-align: right;\">\n",
       "      <th>idx</th>\n",
       "      <th>text</th>\n",
       "    </tr>\n",
       "  </thead>\n",
       "  <tbody>\n",
       "    <tr>\n",
       "      <td>0</td>\n",
       "      <td>and -- a couple who are jewel thieves . \\n \\n  xxmaj it zings along and is great , amusing , romantic fun . xxbos xxmaj no matter how brilliant and stunning the screenplay would have been , this sequel to ` xxmaj henry , xxmaj portrait of a xxmaj serial xxmaj killer ' was doomed to automatically lose 99 % percent of its power . xxmaj why ?</td>\n",
       "    </tr>\n",
       "    <tr>\n",
       "      <td>1</td>\n",
       "      <td>come up with to explain relationships :) \\n \\n  xxmaj to love , you truly xxup have to be free . xxmaj at heart . xxbos xxmaj this has to be one of the most pointless and boring animated feature films of all time . xxmaj don xxmaj bluth had directed some stinkers in the past , but this was by far the worst . xxmaj by the end</td>\n",
       "    </tr>\n",
       "    <tr>\n",
       "      <td>2</td>\n",
       "      <td>toward the café , and he walks back there . xxmaj there , xxmaj duke holds everyone hostage , including the returning xxmaj xxunk , during which time , xxmaj alan comes to an important decision about xxmaj gaby , himself , and what his life means . \\n \\n  xxmaj the film has two unusual aspects , the first being the surprising treatment of the black characters .</td>\n",
       "    </tr>\n",
       "    <tr>\n",
       "      <td>3</td>\n",
       "      <td>xxmaj feel good movie \" ? i 'm actually feeling very angry now at wasting 1.5 hrs of my life on this . xxmaj and to top it all it did not help that narrator was xxmaj ben 's monotonous \" i do n't care about anything including this movie \" voice . \\n \\n  xxmaj so all i can say is , i 'm off to watch some</td>\n",
       "    </tr>\n",
       "    <tr>\n",
       "      <td>4</td>\n",
       "      <td>game that makes it command and conquer . \\n \\n  there is no longer a xxunk , so in the result of that there is workers / xxunk . \\n \\n  it has nothing to do with the tiberian series or the red alert series . i think the gameplay is awful , the graphics is n't good either , it looks to much of an animation rather</td>\n",
       "    </tr>\n",
       "  </tbody>\n",
       "</table>"
      ],
      "text/plain": [
       "<IPython.core.display.HTML object>"
      ]
     },
     "metadata": {},
     "output_type": "display_data"
    }
   ],
   "source": [
    "data_lm.show_batch()"
   ]
  },
  {
   "cell_type": "markdown",
   "metadata": {},
   "source": [
    "We can then put this in a learner object very easily with a model loaded with the pretrained weights. They'll be downloaded the first time you'll execute the following line and stored in `~/.fastai/models/` (or elsewhere if you specified different paths in your config file)."
   ]
  },
  {
   "cell_type": "code",
   "execution_count": 16,
   "metadata": {},
   "outputs": [],
   "source": [
    "learn = language_model_learner(data_lm, AWD_LSTM, drop_mult=0.3)"
   ]
  },
  {
   "cell_type": "code",
   "execution_count": 64,
   "metadata": {},
   "outputs": [
    {
     "data": {
      "text/html": [],
      "text/plain": [
       "<IPython.core.display.HTML object>"
      ]
     },
     "metadata": {},
     "output_type": "display_data"
    },
    {
     "name": "stdout",
     "output_type": "stream",
     "text": [
      "LR Finder is complete, type {learner_name}.recorder.plot() to see the graph.\n"
     ]
    }
   ],
   "source": [
    "learn.lr_find()"
   ]
  },
  {
   "cell_type": "code",
   "execution_count": 65,
   "metadata": {},
   "outputs": [
    {
     "data": {
      "image/png": "[encoded data removed]",
      "text/plain": [
       "<Figure size 432x288 with 1 Axes>"
      ]
     },
     "metadata": {
      "needs_background": "light"
     },
     "output_type": "display_data"
    }
   ],
   "source": [
    "learn.recorder.plot(skip_end=15)"
   ]
  },
  {
   "cell_type": "code",
   "execution_count": 66,
   "metadata": {},
   "outputs": [
    {
     "data": {
      "text/html": [
       "<table border=\"1\" class=\"dataframe\">\n",
       "  <thead>\n",
       "    <tr style=\"text-align: left;\">\n",
       "      <th>epoch</th>\n",
       "      <th>train_loss</th>\n",
       "      <th>valid_loss</th>\n",
       "      <th>accuracy</th>\n",
       "      <th>time</th>\n",
       "    </tr>\n",
       "  </thead>\n",
       "  <tbody>\n",
       "    <tr>\n",
       "      <td>0</td>\n",
       "      <td>4.219777</td>\n",
       "      <td>4.062160</td>\n",
       "      <td>0.292652</td>\n",
       "      <td>47:20</td>\n",
       "    </tr>\n",
       "  </tbody>\n",
       "</table>"
      ],
      "text/plain": [
       "<IPython.core.display.HTML object>"
      ]
     },
     "metadata": {},
     "output_type": "display_data"
    }
   ],
   "source": [
    "learn.fit_one_cycle(1, 1e-2, moms=(0.8,0.7))"
   ]
  },
  {
   "cell_type": "code",
   "execution_count": 67,
   "metadata": {},
   "outputs": [],
   "source": [
    "learn.save('fit_head')"
   ]
  },
  {
   "cell_type": "code",
   "execution_count": 68,
   "metadata": {},
   "outputs": [],
   "source": [
    "# must be called export.pkl and in specific directory\n",
    "#learn.export(os.getcwd() + '/exported_models/language_model_learner_head/export.pkl')"
   ]
  },
  {
   "cell_type": "markdown",
   "metadata": {},
   "source": [
    "# load in from here"
   ]
  },
  {
   "cell_type": "code",
   "execution_count": 17,
   "metadata": {},
   "outputs": [],
   "source": [
    "learn.load('fit_head');"
   ]
  },
  {
   "cell_type": "code",
   "execution_count": 18,
   "metadata": {},
   "outputs": [
    {
     "name": "stdout",
     "output_type": "stream",
     "text": [
      "/home/jupyter\n"
     ]
    }
   ],
   "source": [
    "import os\n",
    "print(os.getcwd())"
   ]
  },
  {
   "cell_type": "markdown",
   "metadata": {},
   "source": [
    "To complete the fine-tuning, we can then unfeeze and launch a new training."
   ]
  },
  {
   "cell_type": "code",
   "execution_count": 19,
   "metadata": {},
   "outputs": [],
   "source": [
    "learn.unfreeze()"
   ]
  },
  {
   "cell_type": "code",
   "execution_count": 72,
   "metadata": {},
   "outputs": [
    {
     "data": {
      "text/html": [
       "<table border=\"1\" class=\"dataframe\">\n",
       "  <thead>\n",
       "    <tr style=\"text-align: left;\">\n",
       "      <th>epoch</th>\n",
       "      <th>train_loss</th>\n",
       "      <th>valid_loss</th>\n",
       "      <th>accuracy</th>\n",
       "      <th>time</th>\n",
       "    </tr>\n",
       "  </thead>\n",
       "  <tbody>\n",
       "    <tr>\n",
       "      <td>0</td>\n",
       "      <td>3.935752</td>\n",
       "      <td>3.886567</td>\n",
       "      <td>0.310063</td>\n",
       "      <td>54:10</td>\n",
       "    </tr>\n",
       "    <tr>\n",
       "      <td>1</td>\n",
       "      <td>3.873298</td>\n",
       "      <td>3.815593</td>\n",
       "      <td>0.319777</td>\n",
       "      <td>53:41</td>\n",
       "    </tr>\n",
       "    <tr>\n",
       "      <td>2</td>\n",
       "      <td>3.825365</td>\n",
       "      <td>3.769427</td>\n",
       "      <td>0.325530</td>\n",
       "      <td>53:28</td>\n",
       "    </tr>\n",
       "    <tr>\n",
       "      <td>3</td>\n",
       "      <td>3.746799</td>\n",
       "      <td>3.731890</td>\n",
       "      <td>0.329666</td>\n",
       "      <td>53:28</td>\n",
       "    </tr>\n",
       "    <tr>\n",
       "      <td>4</td>\n",
       "      <td>3.681532</td>\n",
       "      <td>3.698811</td>\n",
       "      <td>0.332833</td>\n",
       "      <td>53:24</td>\n",
       "    </tr>\n",
       "    <tr>\n",
       "      <td>5</td>\n",
       "      <td>3.634044</td>\n",
       "      <td>3.674591</td>\n",
       "      <td>0.335956</td>\n",
       "      <td>53:28</td>\n",
       "    </tr>\n",
       "    <tr>\n",
       "      <td>6</td>\n",
       "      <td>3.587667</td>\n",
       "      <td>3.655775</td>\n",
       "      <td>0.338233</td>\n",
       "      <td>53:27</td>\n",
       "    </tr>\n",
       "    <tr>\n",
       "      <td>7</td>\n",
       "      <td>3.524532</td>\n",
       "      <td>3.642601</td>\n",
       "      <td>0.339919</td>\n",
       "      <td>53:43</td>\n",
       "    </tr>\n",
       "    <tr>\n",
       "      <td>8</td>\n",
       "      <td>3.492529</td>\n",
       "      <td>3.637465</td>\n",
       "      <td>0.340619</td>\n",
       "      <td>53:39</td>\n",
       "    </tr>\n",
       "    <tr>\n",
       "      <td>9</td>\n",
       "      <td>3.456136</td>\n",
       "      <td>3.636956</td>\n",
       "      <td>0.340733</td>\n",
       "      <td>53:42</td>\n",
       "    </tr>\n",
       "  </tbody>\n",
       "</table>"
      ],
      "text/plain": [
       "<IPython.core.display.HTML object>"
      ]
     },
     "metadata": {},
     "output_type": "display_data"
    }
   ],
   "source": [
    "learn.fit_one_cycle(10, 1e-3, moms=(0.8,0.7))"
   ]
  },
  {
   "cell_type": "code",
   "execution_count": 73,
   "metadata": {},
   "outputs": [],
   "source": [
    "learn.save('fine_tuned')"
   ]
  },
  {
   "cell_type": "code",
   "execution_count": 74,
   "metadata": {},
   "outputs": [],
   "source": [
    "# must be called export.pkl and in specific directory\n",
    "learn.export(os.getcwd() + '/exported_models/language_model_learner/export.pkl')"
   ]
  },
  {
   "cell_type": "markdown",
   "metadata": {},
   "source": [
    "How good is our model? Well let's try to see what it predicts after a few given words."
   ]
  },
  {
   "cell_type": "code",
   "execution_count": 20,
   "metadata": {},
   "outputs": [],
   "source": [
    "learn.load('fine_tuned');"
   ]
  },
  {
   "cell_type": "code",
   "execution_count": 21,
   "metadata": {},
   "outputs": [],
   "source": [
    "TEXT = \"I liked this movie because\"\n",
    "N_WORDS = 40\n",
    "N_SENTENCES = 2"
   ]
  },
  {
   "cell_type": "code",
   "execution_count": 22,
   "metadata": {},
   "outputs": [
    {
     "name": "stdout",
     "output_type": "stream",
     "text": [
      "I liked this movie because it has some very nice and memorable characters , especially Ryan Phillippe . And i 'm not sure why people hate him . It 's a terrible movie , but i do n't think i 've\n",
      "I liked this movie because there was a lot of CGI . This movie was a CGI monster movie which made CGI look like a real film . The special effects and the way the cats look , were pretty\n"
     ]
    }
   ],
   "source": [
    "print(\"\\n\".join(learn.predict(TEXT, N_WORDS, temperature=0.75) for _ in range(N_SENTENCES)))"
   ]
  },
  {
   "cell_type": "markdown",
   "metadata": {},
   "source": [
    "We have to save not only the model, but also its encoder, the part that's responsible for creating and updating the hidden state. For the next part, we don't care about the part that tries to guess the next word."
   ]
  },
  {
   "cell_type": "code",
   "execution_count": 23,
   "metadata": {},
   "outputs": [],
   "source": [
    "learn.save_encoder('fine_tuned_enc')"
   ]
  },
  {
   "cell_type": "markdown",
   "metadata": {},
   "source": [
    "## Classifier"
   ]
  },
  {
   "cell_type": "markdown",
   "metadata": {},
   "source": [
    "Now, we'll create a new data object that only grabs the labelled data and keeps those labels. Again, this line takes a bit of time."
   ]
  },
  {
   "cell_type": "code",
   "execution_count": 3,
   "metadata": {},
   "outputs": [],
   "source": [
    "path = untar_data(URLs.IMDB)"
   ]
  },
  {
   "cell_type": "code",
   "execution_count": 8,
   "metadata": {},
   "outputs": [],
   "source": [
    "\n",
    "data_clas = (TextList.from_folder(path, vocab=data_lm.vocab)\n",
    "             #grab all the text files in path\n",
    "             .split_by_folder(valid='test')\n",
    "             #split by train and valid folder (that only keeps 'train' and 'test' so no need to filter)\n",
    "             .label_from_folder(classes=['neg', 'pos'])\n",
    "             #label them all with their folders\n",
    "             .databunch(bs=bs))\n",
    "\n",
    "data_clas.save('data_clas.pkl')"
   ]
  },
  {
   "cell_type": "code",
   "execution_count": 9,
   "metadata": {},
   "outputs": [],
   "source": [
    "data_clas = load_data(path, 'data_clas.pkl', bs=bs)"
   ]
  },
  {
   "cell_type": "code",
   "execution_count": 10,
   "metadata": {},
   "outputs": [
    {
     "data": {
      "text/html": [
       "<table border=\"1\" class=\"dataframe\">\n",
       "  <thead>\n",
       "    <tr style=\"text-align: right;\">\n",
       "      <th>text</th>\n",
       "      <th>target</th>\n",
       "    </tr>\n",
       "  </thead>\n",
       "  <tbody>\n",
       "    <tr>\n",
       "      <td>xxbos xxmaj match 1 : xxmaj tag xxmaj team xxmaj table xxmaj match xxmaj bubba xxmaj ray and xxmaj spike xxmaj dudley vs xxmaj eddie xxmaj guerrero and xxmaj chris xxmaj benoit xxmaj bubba xxmaj ray and xxmaj spike xxmaj dudley started things off with a xxmaj tag xxmaj team xxmaj table xxmaj match against xxmaj eddie xxmaj guerrero and xxmaj chris xxmaj benoit . xxmaj according to the rules</td>\n",
       "      <td>pos</td>\n",
       "    </tr>\n",
       "    <tr>\n",
       "      <td>xxbos xxup anchors xxup aweigh sees two eager young sailors , xxmaj joe xxmaj brady ( xxmaj gene xxmaj kelly ) and xxmaj clarence xxmaj doolittle / xxmaj brooklyn ( xxmaj frank xxmaj sinatra ) , get a special four - day shore leave . xxmaj eager to get to the girls , particularly xxmaj joe 's xxmaj lola , neither xxmaj joe nor xxmaj brooklyn figure on the interruption</td>\n",
       "      <td>pos</td>\n",
       "    </tr>\n",
       "    <tr>\n",
       "      <td>xxbos xxmaj the majority of xxmaj stephen xxmaj king 's short stories are little gems , with original ideas that do n't take a long time to develop ; basically lean and mean -- he sets them up quickly in a scarce number of pages , you read 'em , and you 're finished before you know you 've begun . xxmaj they 're like the equivalent of a carton</td>\n",
       "      <td>neg</td>\n",
       "    </tr>\n",
       "    <tr>\n",
       "      <td>xxbos xxmaj the movie \" macarthur \" begins and ends at xxmaj gen. xxmaj douglas macarthur 's , xxmaj gregory xxmaj peck , xxmaj alma xxmaj mata the xxup us xxmaj military xxmaj academy of xxmaj west xxmaj point on the xxmaj hudson . xxmaj we see a frail 82 year old xxmaj gen . macarthur give the commencement speech to the graduating class of 1962 about what an honor</td>\n",
       "      <td>pos</td>\n",
       "    </tr>\n",
       "    <tr>\n",
       "      <td>xxbos xxmaj secret xxmaj sunshine ( 2007 ) is famous for its awards at the xxmaj festival de xxmaj cannes in 2007 and other film festivals . xxmaj jeon - xxmaj do xxmaj yeon , who played the newly widowed xxmaj shin - ae , won the best actress trophy at the 60th xxmaj cannes festival . xxmaj secret xxmaj sunshine was also a winner of best feature film and</td>\n",
       "      <td>pos</td>\n",
       "    </tr>\n",
       "  </tbody>\n",
       "</table>"
      ],
      "text/plain": [
       "<IPython.core.display.HTML object>"
      ]
     },
     "metadata": {},
     "output_type": "display_data"
    }
   ],
   "source": [
    "data_clas.show_batch()"
   ]
  },
  {
   "cell_type": "markdown",
   "metadata": {},
   "source": [
    "We can then create a model to classify those reviews and load the encoder we saved before."
   ]
  },
  {
   "cell_type": "code",
   "execution_count": 11,
   "metadata": {},
   "outputs": [],
   "source": [
    "learn = text_classifier_learner(data_clas, AWD_LSTM, drop_mult=0.5)\n",
    "learn.load_encoder('fine_tuned_enc')"
   ]
  },
  {
   "cell_type": "code",
   "execution_count": 84,
   "metadata": {},
   "outputs": [
    {
     "data": {
      "text/html": [],
      "text/plain": [
       "<IPython.core.display.HTML object>"
      ]
     },
     "metadata": {},
     "output_type": "display_data"
    },
    {
     "name": "stdout",
     "output_type": "stream",
     "text": [
      "LR Finder is complete, type {learner_name}.recorder.plot() to see the graph.\n"
     ]
    }
   ],
   "source": [
    "learn.lr_find()"
   ]
  },
  {
   "cell_type": "code",
   "execution_count": 85,
   "metadata": {},
   "outputs": [
    {
     "data": {
      "image/png": "[encoded data removed]",
      "text/plain": [
       "<Figure size 432x288 with 1 Axes>"
      ]
     },
     "metadata": {
      "needs_background": "light"
     },
     "output_type": "display_data"
    }
   ],
   "source": [
    "learn.recorder.plot()"
   ]
  },
  {
   "cell_type": "code",
   "execution_count": 86,
   "metadata": {},
   "outputs": [
    {
     "data": {
      "text/html": [
       "<table border=\"1\" class=\"dataframe\">\n",
       "  <thead>\n",
       "    <tr style=\"text-align: left;\">\n",
       "      <th>epoch</th>\n",
       "      <th>train_loss</th>\n",
       "      <th>valid_loss</th>\n",
       "      <th>accuracy</th>\n",
       "      <th>time</th>\n",
       "    </tr>\n",
       "  </thead>\n",
       "  <tbody>\n",
       "    <tr>\n",
       "      <td>0</td>\n",
       "      <td>0.278284</td>\n",
       "      <td>0.190474</td>\n",
       "      <td>0.927920</td>\n",
       "      <td>06:16</td>\n",
       "    </tr>\n",
       "  </tbody>\n",
       "</table>"
      ],
      "text/plain": [
       "<IPython.core.display.HTML object>"
      ]
     },
     "metadata": {},
     "output_type": "display_data"
    }
   ],
   "source": [
    "learn.fit_one_cycle(1, 2e-2, moms=(0.8,0.7))"
   ]
  },
  {
   "cell_type": "code",
   "execution_count": 90,
   "metadata": {},
   "outputs": [],
   "source": [
    "learn.save('first')\n",
    "\n",
    "# must be called export.pkl and in specific directory\n",
    "learn.export(os.getcwd() + '/exported_models/classifier_first/export.pkl')"
   ]
  },
  {
   "cell_type": "code",
   "execution_count": 91,
   "metadata": {},
   "outputs": [],
   "source": [
    "learn.load('first');"
   ]
  },
  {
   "cell_type": "code",
   "execution_count": 92,
   "metadata": {},
   "outputs": [
    {
     "data": {
      "text/html": [
       "<table border=\"1\" class=\"dataframe\">\n",
       "  <thead>\n",
       "    <tr style=\"text-align: left;\">\n",
       "      <th>epoch</th>\n",
       "      <th>train_loss</th>\n",
       "      <th>valid_loss</th>\n",
       "      <th>accuracy</th>\n",
       "      <th>time</th>\n",
       "    </tr>\n",
       "  </thead>\n",
       "  <tbody>\n",
       "    <tr>\n",
       "      <td>0</td>\n",
       "      <td>0.250317</td>\n",
       "      <td>0.170725</td>\n",
       "      <td>0.936080</td>\n",
       "      <td>07:24</td>\n",
       "    </tr>\n",
       "  </tbody>\n",
       "</table>"
      ],
      "text/plain": [
       "<IPython.core.display.HTML object>"
      ]
     },
     "metadata": {},
     "output_type": "display_data"
    }
   ],
   "source": [
    "learn.freeze_to(-2)\n",
    "learn.fit_one_cycle(1, slice(1e-2/(2.6**4),1e-2), moms=(0.8,0.7))"
   ]
  },
  {
   "cell_type": "code",
   "execution_count": 93,
   "metadata": {},
   "outputs": [],
   "source": [
    "learn.save('second')"
   ]
  },
  {
   "cell_type": "code",
   "execution_count": 29,
   "metadata": {},
   "outputs": [],
   "source": [
    "learn.load('second');\n",
    "\n",
    "#learn.export(os.getcwd() + '/exports/classifier_second/export.pkl')"
   ]
  },
  {
   "cell_type": "code",
   "execution_count": 1,
   "metadata": {},
   "outputs": [
    {
     "ename": "NameError",
     "evalue": "name 'learn' is not defined",
     "output_type": "error",
     "traceback": [
      "\u001b[0;31m---------------------------------------------------------------------------\u001b[0m",
      "\u001b[0;31mNameError\u001b[0m                                 Traceback (most recent call last)",
      "\u001b[0;32m<ipython-input-1-644a31004af3>\u001b[0m in \u001b[0;36m<module>\u001b[0;34m\u001b[0m\n\u001b[0;32m----> 1\u001b[0;31m \u001b[0mlearn\u001b[0m\u001b[0;34m.\u001b[0m\u001b[0mfreeze_to\u001b[0m\u001b[0;34m(\u001b[0m\u001b[0;34m-\u001b[0m\u001b[0;36m3\u001b[0m\u001b[0;34m)\u001b[0m\u001b[0;34m\u001b[0m\u001b[0m\n\u001b[0m\u001b[1;32m      2\u001b[0m \u001b[0mlearn\u001b[0m\u001b[0;34m.\u001b[0m\u001b[0mfit_one_cycle\u001b[0m\u001b[0;34m(\u001b[0m\u001b[0;36m1\u001b[0m\u001b[0;34m,\u001b[0m \u001b[0mslice\u001b[0m\u001b[0;34m(\u001b[0m\u001b[0;36m5e-3\u001b[0m\u001b[0;34m/\u001b[0m\u001b[0;34m(\u001b[0m\u001b[0;36m2.6\u001b[0m\u001b[0;34m**\u001b[0m\u001b[0;36m4\u001b[0m\u001b[0;34m)\u001b[0m\u001b[0;34m,\u001b[0m\u001b[0;36m5e-3\u001b[0m\u001b[0;34m)\u001b[0m\u001b[0;34m,\u001b[0m \u001b[0mmoms\u001b[0m\u001b[0;34m=\u001b[0m\u001b[0;34m(\u001b[0m\u001b[0;36m0.8\u001b[0m\u001b[0;34m,\u001b[0m\u001b[0;36m0.7\u001b[0m\u001b[0;34m)\u001b[0m\u001b[0;34m)\u001b[0m\u001b[0;34m\u001b[0m\u001b[0m\n",
      "\u001b[0;31mNameError\u001b[0m: name 'learn' is not defined"
     ]
    }
   ],
   "source": [
    "learn.freeze_to(-3)\n",
    "learn.fit_one_cycle(1, slice(5e-3/(2.6**4),5e-3), moms=(0.8,0.7))"
   ]
  },
  {
   "cell_type": "code",
   "execution_count": null,
   "metadata": {},
   "outputs": [],
   "source": [
    "learn.save('third')"
   ]
  },
  {
   "cell_type": "code",
   "execution_count": 12,
   "metadata": {},
   "outputs": [],
   "source": [
    "learn.load('third');"
   ]
  },
  {
   "cell_type": "code",
   "execution_count": 13,
   "metadata": {},
   "outputs": [
    {
     "data": {
      "text/html": [
       "<table border=\"1\" class=\"dataframe\">\n",
       "  <thead>\n",
       "    <tr style=\"text-align: left;\">\n",
       "      <th>epoch</th>\n",
       "      <th>train_loss</th>\n",
       "      <th>valid_loss</th>\n",
       "      <th>accuracy</th>\n",
       "      <th>time</th>\n",
       "    </tr>\n",
       "  </thead>\n",
       "  <tbody>\n",
       "    <tr>\n",
       "      <td>0</td>\n",
       "      <td>0.449071</td>\n",
       "      <td>0.358374</td>\n",
       "      <td>0.843400</td>\n",
       "      <td>29:34</td>\n",
       "    </tr>\n",
       "    <tr>\n",
       "      <td>1</td>\n",
       "      <td>0.399920</td>\n",
       "      <td>0.330602</td>\n",
       "      <td>0.860920</td>\n",
       "      <td>29:32</td>\n",
       "    </tr>\n",
       "  </tbody>\n",
       "</table>"
      ],
      "text/plain": [
       "<IPython.core.display.HTML object>"
      ]
     },
     "metadata": {},
     "output_type": "display_data"
    }
   ],
   "source": [
    "learn.unfreeze()\n",
    "learn.fit_one_cycle(2, slice(1e-3/(2.6**4),1e-3), moms=(0.8,0.7))"
   ]
  },
  {
   "cell_type": "code",
   "execution_count": 14,
   "metadata": {},
   "outputs": [
    {
     "data": {
      "text/plain": [
       "(Category pos, tensor(1), tensor([0.3654, 0.6346]))"
      ]
     },
     "execution_count": 14,
     "metadata": {},
     "output_type": "execute_result"
    }
   ],
   "source": [
    "learn.predict(\"I really loved that movie, it was awesome!\")"
   ]
  },
  {
   "cell_type": "code",
   "execution_count": 15,
   "metadata": {},
   "outputs": [],
   "source": [
    "learn.save('final')"
   ]
  },
  {
   "cell_type": "code",
   "execution_count": 16,
   "metadata": {},
   "outputs": [
    {
     "name": "stderr",
     "output_type": "stream",
     "text": [
      "/opt/anaconda3/lib/python3.7/site-packages/fastai/basic_train.py:327: UserWarning: Wasn't able to properly load the optimizer state again.\n",
      "  except: warn(\"Wasn't able to properly load the optimizer state again.\")\n"
     ]
    },
    {
     "data": {
      "text/plain": [
       "RNNLearner(data=TextClasDataBunch;\n",
       "\n",
       "Train: LabelList (25000 items)\n",
       "x: TextList\n",
       "xxbos macarthur is a great movie with a great story about a great man \n",
       " xxmaj general xxmaj douglas macarthur . xxmaj this is of course , the story of one of xxmaj america 's great military figures , and a figure made familiar to me from the earliest moments of my memory . xxmaj though there is a continuity issue ( there may be others ) e.g. macarthur 's speech portrayed in the film as his 1962 address to the xxup u.s. xxmaj military xxmaj academy on accepting the xxmaj thayer award did not contain the phrase \" old soldiers never die ; they just fade away . \" ( xxmaj that was in his speech to xxmaj congress upon his dismissal by xxmaj president xxmaj truman ) in 1951 for his alleged insubordination ( these two did not see eye to eye ! ) xxmaj gregory xxmaj peck is im - xxmaj peck - able as the general who vowed he would return to the xxmaj philippines in xxmaj world xxmaj war xxup ii . xxmaj the film moves quickly and easily with the xxmaj general , his family and his staff from the beginning of the xxmaj second xxmaj world xxmaj war to the end of his service career . xxmaj this film would be of much greater significance to one familiar with both xxup ww xxup ii and the xxmaj korean xxmaj war . xxmaj nevertheless , xxmaj peck 's portrayal of this great man who fought the twin evils of fascism and communism and who hated war as only a soldier can is a memorable one indeed . \" xxmaj in war there is no substitute for victory . \",xxbos xxmaj due to the invention of a \" xxmaj the xxmaj domestication xxmaj collar \" , flesh - eating zombies are brought under control , and become productive members of society ; however , they perform menial tasks . xxmaj the servile dead attend to those living in fenced xxup us 1950s - styled small towns , while untamed zombies roam around in \" xxmaj the xxmaj wild xxmaj zone \" . xxmaj in the town of \" xxmaj willard \" , pre - teen k'sun xxmaj ray ( as xxmaj timmy xxmaj robinson ) lives with parents xxmaj carrie - xxmaj anne xxmaj moss and xxmaj dylan xxmaj baker ( as xxmaj helen and xxmaj bill xxmaj robinson ) . xxmaj alas , the xxmaj robinsons are the only family on their street who do not own a zombie ; their new neighbors , the xxmaj bottoms , have six . xxmaj so , to keep up , the xxmaj robinsons obtain zombie xxmaj billy xxmaj connolly ( as xxmaj fido ) . \n",
       " \n",
       "  xxmaj unfortunately , xxmaj mr. xxmaj connolly 's \" xxmaj domestication xxmaj collar \" is damaged by an old lady 's walker , and he eats her ; then , new and hungry zombies infest the town . xxmaj meanwhile , young xxmaj ray has grown attached to xxmaj connolly ( the boy and his zombie are like xxup tv 's \" xxmaj timmy and xxmaj lassie \" ) and , the xxmaj robinson family find it difficult to cooperate with the controlling \" xxmaj zomcom \" authorities . \n",
       " \n",
       "  \" xxmaj fido \" does n't go far enough into its own intriguing \" xxmaj wild xxmaj zone \" ; but , it is a colorful , stylish , and amusingly satirical addition to zombie film lore . xxmaj ray and the cast perform well , individually ; with nubile zombie xxmaj sonja xxmaj bennett ( as xxmaj tammy ) and owner xxmaj tim xxmaj blake xxmaj nelson ( as xxmaj xxunk ) the most memorable pair . xxmaj director xxmaj andrew xxmaj currie and crew , including xxmaj rob xxmaj gray ( design ) , xxmaj jan xxmaj xxunk ( photography ) , xxmaj don macdonald ( music ) , and xxmaj james xxmaj xxunk ( design ) , deservedly won awards . \n",
       " \n",
       "  xxrep 7 * xxmaj fido ( 2006 ) xxmaj andrew xxmaj currie ~ k'sun xxmaj ray , xxmaj carrie - xxmaj anne xxmaj moss , xxmaj billy xxmaj connolly , xxmaj dylan xxmaj baker,xxbos xxmaj dahl seems to have been under the influence of xxmaj wenders ' xxmaj the xxmaj american xxmaj friend . xxmaj innocent xxmaj nick xxmaj cage gets recruited for a hit . xxmaj dennis xxmaj hopper plays a real xxmaj hit xxmaj man . xxmaj lara xxmaj flynn xxmaj boyle is dangerous . xxmaj the xxmaj hero gets more entangled the more he tries to extricate hisself . xxmaj and small town xxmaj america does not seem all that safer than the xxmaj big xxmaj city . xxmaj like it 's predecessor mentioned above , this movie has lots of plot twists and turns that seem improbable , but all lead to the cathartic self discovery .,xxbos a movie made for contemporary audience . xxmaj the masses get to see what they want to see . xxmaj action , comedy , drama and of course sensuous scenes as well . xxmaj this is not exactly a movie that one would feel comfortable watching with entire family . xxmaj it is n't for eyes of children . i had to fast forward quite a number of scenes . \n",
       " \n",
       "  xxmaj if it is just entertainment you are looking for , then this movie has it all . xxmaj the songs are catchy . a lavish production , i must add . \n",
       " \n",
       "  xxmaj however , the message of the movie is not universal . xxmaj it emphasizes on the idea of karma . xxmaj that is , if you do good , you will get good . xxmaj and if you do evil , you will get evil . xxmaj the fruit of good deeds is good , while the fruit of evil is evil . \n",
       " \n",
       "  xxmaj in real life , this is not always true . xxmaj it is well - known that most people do not get justice in this world . xxmaj while it is true that some evil people do meet with an evil end , there are many who escape . xxmaj and then , there are many people who do good , and yet in return they meet with a sorry end . \n",
       " \n",
       "  xxmaj if you do n't care about the message , and all you want is an escape from worldly reality , this movie is an entertainer alright .,xxbos i really liked this movie because i have a husband just like the guy in this movie . xxmaj this movie is about xxmaj lindsey who meets xxmaj ben in the middle of winter when baseball season is n't in . xxmaj she falls in love but when spring comes along , she gets the shock of her life when she is placed one step lower on her pedestal that xxmaj ben has put her on . \n",
       " \n",
       "  xxmaj it 's a funny movie with all of the baseball obsession that xxmaj ben has . xxmaj he ca n't part from what he loves the most , that 's what makes it so funny and why so many women can relate to xxmaj lindsey in real life . xxmaj also the people he sits with at the baseball games are just as obsessed as he is . \n",
       " \n",
       "  xxmaj it 's a funny movie and you wo n't strike out if you rent this one .\n",
       "y: CategoryList\n",
       "pos,pos,pos,pos,pos\n",
       "Path: /home/jupyter/.fastai/data/imdb;\n",
       "\n",
       "Valid: LabelList (25000 items)\n",
       "x: TextList\n",
       "xxbos xxmaj this is another xxmaj universal fun filled fright fest . xxmaj many people want to compare it to xxmaj house xxmaj of xxmaj frankenstein . xxmaj even though it has similar cast and the same director it can stand on its xxunk does appear that xxmaj erle c xxmaj kenton directed most of the xxmaj universal horror films of the 40 's ) . \n",
       " \n",
       "  xxmaj the plot recap : xxmaj baron xxmaj xxunk appears at the home of xxmaj dr xxmaj xxunk seeking a \" cure \" for his vampirism . xxmaj larry xxmaj talbot ( who somehow survived xxmaj house xxup of xxmaj frankenstein ) also shows up at the good doctors door seeking a cure for his affliction . xxmaj after a failed suicide attempt xxmaj talbot and the doctor find the xxmaj frankenstein monster . xxmaj to complicate matters just before he bites the dust , xxmaj dracula infects the good doctor with his blood . xxmaj the doctor becomes a bloodthirsty maniac at certain times . xxmaj where this leads to is something you 'll have to see for your self . \n",
       " \n",
       "  xxmaj carradine actually gives a very good performance as xxmaj dracula . xxmaj he is n't chewing up the scenery as he will in later roles . xxmaj it is hard to repress giggles when he appears in a top hat though . xxmaj the cape / cloak is traditional but the hat has to go . xxmaj where does the hat go when he changes into a bat ... ? \n",
       " \n",
       "  xxmaj onslow xxmaj stevens gives an excellent portrayal of the doctor . xxmaj he 's torn between his basic kindness and the increasing blood lust he is now prone to . xxmaj this is a very underrated performance . xxmaj chaney brings even more life to the xxmaj wolf xxmaj man in his 4th appearance in that role . \n",
       " \n",
       "  xxmaj the monster is n't given much to do this time . xxmaj just lay on the table until the xxunk stock footage from the xxmaj ghost xxmaj of xxmaj frankenstein is xxunk least in xxmaj house xxmaj of xxmaj frankenstein he was up and around a bit . \n",
       " \n",
       "  xxmaj yes this does stick to the basic xxmaj universal pattern complete with the angry village mob running amok with torches . xxmaj but it is n't a bad way to spend an hour and ten minutes . xxmaj it gets a low 8 .,xxbos xxmaj the xxmaj stunts sequences ( as well as the xxmaj special xxmaj effects ) are xxmaj brilliant , in this movie . xxmaj michael xxmaj xxunk must be one of xxmaj xxunk xxup best xxmaj stunt xxmaj co - xxunk of all time . xxmaj the explosion in the xxmaj café , is a wonderful combination of xxmaj stunts , xxmaj special xxmaj effects xxup and xxmaj visual xxmaj effects . xxmaj the xxmaj director xxup had an idea , that the xxmaj crew managed to create on film . \n",
       " \n",
       "  xxmaj besides that ; xxmaj donald xxmaj sutherland makes one of his best performances in this film xxrep 7 .,xxbos xxmaj this is a very modest , very lovely movie with a great score by xxmaj hoagy xxmaj carmichael and xxmaj frank xxmaj loesser with a standout number , xxmaj we 're xxmaj the xxmaj couple xxmaj in xxmaj the xxmaj castle , that is totally evocative of the period and harks back to xxmaj penthouse xxmaj serenade just as the opening premise ( xxmaj hoppity 's coming ) may well have inspired xxmaj fred xxmaj xxunk and xxmaj yip xxmaj harburg 's opening ( xxmaj woody 's xxmaj coming ) in xxmaj finian 's xxmaj rainbow six years later . i totally agree with those posters who have noted that were the name xxmaj disney appended to this it would by now have achieved ' classic ' status rather than have fallen into neglect . xxmaj it 's wonderfully inventive , never more so than when objects barely noticed in the ' real ' world assume a much greater significance - both pro and con - in the insect world . xxmaj actually it xxup is a classic , albeit a minor one .,xxbos a team varied between xxmaj scully and xxmaj mulder , two other scientists , a pilot , and the guy who plays xxmaj bana on xxmaj seinfeld , go up to an xxmaj arctic research post where all members have died off by either killing each other or killing themselves . xxmaj they discover there 's a xxunk a xxunk that is parasitic to the point of madness and death . xxmaj the problem is , after a certain dog lashes out , anyone could be infected , but who ? xxmaj this is not just my favorite episode of season 1 , but also one of my favorites from the show . xxmaj the xxmaj arctic environment xxunk the characters and , of course like xxmaj carpenter 's the xxmaj thing , it 's a lot of fun watching these even - tempered characters suddenly start to flip out in dramatic scenes . xxmaj and the visual effects of the worm and its effects under the skin are cheesy , i did n't mind them at all . xxmaj the drama between the characters ends up working more than it would usually because of the tension and because all of the actors ( including the xxmaj bana guy ) understand what 's going on in the story . xxmaj and , as usual , i loved the ambiguity of the ending . xxmaj highly recommended .,xxbos xxmaj sharpe 's xxmaj honour for the uninitiated , is the fifth entry in a series of xxup tv movies focusing on an xxmaj english army rifleman during the xxmaj napoleonic wars and based on the books by xxmaj bernard xxmaj cornwell ( which i strongly recommend reading ) . xxmaj if you were to start by watching this particular one though , you 'd get the impression that xxmaj sharpe is not so much a soldier as the very xxunk force which the rest of the army revolves around . xxmaj should that be the case , i 'd recommend starting with earlier chapters like xxmaj sharpe 's xxmaj eagle or xxmaj sharpe 's xxmaj company , but this is a worthy choice for a second viewing . \n",
       " \n",
       "  xxmaj the story this time is all about the espionage side of things . xxmaj with the xxmaj french army retreating in disarray from xxmaj spain , xxmaj major xxmaj ducos , the slimy spy master spots an opportunity to turn the situation round . xxmaj by pinning the murder of a xxmaj spanish xxmaj xxunk on xxmaj richard xxmaj sharpe , hero of the xxmaj british army , the fragile xxmaj british / xxmaj spanish alliance will start to crumble and things will turn around again . xxmaj when the xxmaj spanish nobles come to xxmaj wellington crying for xxmaj sharpe 's blood though , the xxmaj english general is less than willing to hang his best soldier so fakes his death and soon , he 's off on a secret mission behind enemy lines to find out who masterminded the plot . xxmaj surprisingly enough for a xxmaj sharpe film as well , there 's a gorgeous woman to be rescued along the way , fancy that . \n",
       " \n",
       "  xxmaj what this results in of course is a more adventure style approach . xxmaj the concentration is less on the workings of the xxmaj english military with xxmaj sharpe as the figurehead and concentrates more on his escapades in the countryside , dodging xxmaj french patrols , hob xxunk with the xxmaj spanish guerrillas and getting involved in daring escapes from fortified military positions . xxmaj sergeant xxmaj harper , his loyal right hand man accompanies him naturally but the rest of the riflemen remain in the camp unaware their leader is still alive . xxmaj strangely enough though , they actually receive more attention than usual as they wind up in their own subplot involving the delivery of xxmaj harper 's baby . \n",
       " \n",
       "  xxmaj this slightly different approach makes for an intriguing episode but is only a good thing in the long run . xxmaj and should anyone be worried that there wo n't be the standard battle at the climax fret not , because once again the poor old xxmaj french get a right kicking . xxmaj furthermore , xxmaj ducos makes a fantastic successor to xxmaj xxunk xxmaj hakeswill as the bad guy you love to hate . xxmaj he is a duplicitous , malicious and absolutely evil son of a female canine and is also strangely reminiscent of that guy in black from out of xxmaj raiders of the xxmaj lost xxmaj ark. xxmaj elsewhere , xxmaj hagman stands out quite prominently as he gets the chance for more screen time and comes across as the sort of man you 'd want to deliver your first born , even if he does look like a member of xxmaj iron xxmaj maiden who got catapulted backwards in time by accident . \n",
       " \n",
       "  xxmaj in short then , another strong chapter in the xxmaj sharpe series . xxmaj sharpe remains as heroic as always but considerably more bitter and angry this time given the events in the previous film . xxmaj it 's not the best introduction if you 've not seen any of the other chapters but it does show a side to xxmaj sharpe that we do n't normally get to witness : the action hero rather than the professional soldier . xxmaj and if that 's not enough to get you tempted , it 's also worth watching just for the rather surreal sight of an enraged xxmaj sean xxmaj bean swinging a live chicken at a group of nuns .\n",
       "y: CategoryList\n",
       "pos,pos,pos,pos,pos\n",
       "Path: /home/jupyter/.fastai/data/imdb;\n",
       "\n",
       "Test: None, model=SequentialRNN(\n",
       "  (0): MultiBatchEncoder(\n",
       "    (module): AWD_LSTM(\n",
       "      (encoder): Embedding(60004, 400, padding_idx=1)\n",
       "      (encoder_dp): EmbeddingDropout(\n",
       "        (emb): Embedding(60004, 400, padding_idx=1)\n",
       "      )\n",
       "      (rnns): ModuleList(\n",
       "        (0): WeightDropout(\n",
       "          (module): LSTM(400, 1150, batch_first=True)\n",
       "        )\n",
       "        (1): WeightDropout(\n",
       "          (module): LSTM(1150, 1150, batch_first=True)\n",
       "        )\n",
       "        (2): WeightDropout(\n",
       "          (module): LSTM(1150, 400, batch_first=True)\n",
       "        )\n",
       "      )\n",
       "      (input_dp): RNNDropout()\n",
       "      (hidden_dps): ModuleList(\n",
       "        (0): RNNDropout()\n",
       "        (1): RNNDropout()\n",
       "        (2): RNNDropout()\n",
       "      )\n",
       "    )\n",
       "  )\n",
       "  (1): PoolingLinearClassifier(\n",
       "    (layers): Sequential(\n",
       "      (0): BatchNorm1d(1200, eps=1e-05, momentum=0.1, affine=True, track_running_stats=True)\n",
       "      (1): Dropout(p=0.2)\n",
       "      (2): Linear(in_features=1200, out_features=50, bias=True)\n",
       "      (3): ReLU(inplace)\n",
       "      (4): BatchNorm1d(50, eps=1e-05, momentum=0.1, affine=True, track_running_stats=True)\n",
       "      (5): Dropout(p=0.1)\n",
       "      (6): Linear(in_features=50, out_features=2, bias=True)\n",
       "    )\n",
       "  )\n",
       "), opt_func=functools.partial(<class 'torch.optim.adam.Adam'>, betas=(0.9, 0.99)), loss_func=FlattenedLoss of CrossEntropyLoss(), metrics=[<function accuracy at 0x7f91d550ba60>], true_wd=True, bn_wd=True, wd=0.01, train_bn=True, path=PosixPath('/home/jupyter/.fastai/data/imdb'), model_dir='models', callback_fns=[functools.partial(<class 'fastai.basic_train.Recorder'>, add_time=True, silent=False)], callbacks=[RNNTrainer\n",
       "learn: RNNLearner(data=TextClasDataBunch;\n",
       "\n",
       "Train: LabelList (25000 items)\n",
       "x: TextList\n",
       "xxbos macarthur is a great movie with a great story about a great man \n",
       " xxmaj general xxmaj douglas macarthur . xxmaj this is of course , the story of one of xxmaj america 's great military figures , and a figure made familiar to me from the earliest moments of my memory . xxmaj though there is a continuity issue ( there may be others ) e.g. macarthur 's speech portrayed in the film as his 1962 address to the xxup u.s. xxmaj military xxmaj academy on accepting the xxmaj thayer award did not contain the phrase \" old soldiers never die ; they just fade away . \" ( xxmaj that was in his speech to xxmaj congress upon his dismissal by xxmaj president xxmaj truman ) in 1951 for his alleged insubordination ( these two did not see eye to eye ! ) xxmaj gregory xxmaj peck is im - xxmaj peck - able as the general who vowed he would return to the xxmaj philippines in xxmaj world xxmaj war xxup ii . xxmaj the film moves quickly and easily with the xxmaj general , his family and his staff from the beginning of the xxmaj second xxmaj world xxmaj war to the end of his service career . xxmaj this film would be of much greater significance to one familiar with both xxup ww xxup ii and the xxmaj korean xxmaj war . xxmaj nevertheless , xxmaj peck 's portrayal of this great man who fought the twin evils of fascism and communism and who hated war as only a soldier can is a memorable one indeed . \" xxmaj in war there is no substitute for victory . \",xxbos xxmaj due to the invention of a \" xxmaj the xxmaj domestication xxmaj collar \" , flesh - eating zombies are brought under control , and become productive members of society ; however , they perform menial tasks . xxmaj the servile dead attend to those living in fenced xxup us 1950s - styled small towns , while untamed zombies roam around in \" xxmaj the xxmaj wild xxmaj zone \" . xxmaj in the town of \" xxmaj willard \" , pre - teen k'sun xxmaj ray ( as xxmaj timmy xxmaj robinson ) lives with parents xxmaj carrie - xxmaj anne xxmaj moss and xxmaj dylan xxmaj baker ( as xxmaj helen and xxmaj bill xxmaj robinson ) . xxmaj alas , the xxmaj robinsons are the only family on their street who do not own a zombie ; their new neighbors , the xxmaj bottoms , have six . xxmaj so , to keep up , the xxmaj robinsons obtain zombie xxmaj billy xxmaj connolly ( as xxmaj fido ) . \n",
       " \n",
       "  xxmaj unfortunately , xxmaj mr. xxmaj connolly 's \" xxmaj domestication xxmaj collar \" is damaged by an old lady 's walker , and he eats her ; then , new and hungry zombies infest the town . xxmaj meanwhile , young xxmaj ray has grown attached to xxmaj connolly ( the boy and his zombie are like xxup tv 's \" xxmaj timmy and xxmaj lassie \" ) and , the xxmaj robinson family find it difficult to cooperate with the controlling \" xxmaj zomcom \" authorities . \n",
       " \n",
       "  \" xxmaj fido \" does n't go far enough into its own intriguing \" xxmaj wild xxmaj zone \" ; but , it is a colorful , stylish , and amusingly satirical addition to zombie film lore . xxmaj ray and the cast perform well , individually ; with nubile zombie xxmaj sonja xxmaj bennett ( as xxmaj tammy ) and owner xxmaj tim xxmaj blake xxmaj nelson ( as xxmaj xxunk ) the most memorable pair . xxmaj director xxmaj andrew xxmaj currie and crew , including xxmaj rob xxmaj gray ( design ) , xxmaj jan xxmaj xxunk ( photography ) , xxmaj don macdonald ( music ) , and xxmaj james xxmaj xxunk ( design ) , deservedly won awards . \n",
       " \n",
       "  xxrep 7 * xxmaj fido ( 2006 ) xxmaj andrew xxmaj currie ~ k'sun xxmaj ray , xxmaj carrie - xxmaj anne xxmaj moss , xxmaj billy xxmaj connolly , xxmaj dylan xxmaj baker,xxbos xxmaj dahl seems to have been under the influence of xxmaj wenders ' xxmaj the xxmaj american xxmaj friend . xxmaj innocent xxmaj nick xxmaj cage gets recruited for a hit . xxmaj dennis xxmaj hopper plays a real xxmaj hit xxmaj man . xxmaj lara xxmaj flynn xxmaj boyle is dangerous . xxmaj the xxmaj hero gets more entangled the more he tries to extricate hisself . xxmaj and small town xxmaj america does not seem all that safer than the xxmaj big xxmaj city . xxmaj like it 's predecessor mentioned above , this movie has lots of plot twists and turns that seem improbable , but all lead to the cathartic self discovery .,xxbos a movie made for contemporary audience . xxmaj the masses get to see what they want to see . xxmaj action , comedy , drama and of course sensuous scenes as well . xxmaj this is not exactly a movie that one would feel comfortable watching with entire family . xxmaj it is n't for eyes of children . i had to fast forward quite a number of scenes . \n",
       " \n",
       "  xxmaj if it is just entertainment you are looking for , then this movie has it all . xxmaj the songs are catchy . a lavish production , i must add . \n",
       " \n",
       "  xxmaj however , the message of the movie is not universal . xxmaj it emphasizes on the idea of karma . xxmaj that is , if you do good , you will get good . xxmaj and if you do evil , you will get evil . xxmaj the fruit of good deeds is good , while the fruit of evil is evil . \n",
       " \n",
       "  xxmaj in real life , this is not always true . xxmaj it is well - known that most people do not get justice in this world . xxmaj while it is true that some evil people do meet with an evil end , there are many who escape . xxmaj and then , there are many people who do good , and yet in return they meet with a sorry end . \n",
       " \n",
       "  xxmaj if you do n't care about the message , and all you want is an escape from worldly reality , this movie is an entertainer alright .,xxbos i really liked this movie because i have a husband just like the guy in this movie . xxmaj this movie is about xxmaj lindsey who meets xxmaj ben in the middle of winter when baseball season is n't in . xxmaj she falls in love but when spring comes along , she gets the shock of her life when she is placed one step lower on her pedestal that xxmaj ben has put her on . \n",
       " \n",
       "  xxmaj it 's a funny movie with all of the baseball obsession that xxmaj ben has . xxmaj he ca n't part from what he loves the most , that 's what makes it so funny and why so many women can relate to xxmaj lindsey in real life . xxmaj also the people he sits with at the baseball games are just as obsessed as he is . \n",
       " \n",
       "  xxmaj it 's a funny movie and you wo n't strike out if you rent this one .\n",
       "y: CategoryList\n",
       "pos,pos,pos,pos,pos\n",
       "Path: /home/jupyter/.fastai/data/imdb;\n",
       "\n",
       "Valid: LabelList (25000 items)\n",
       "x: TextList\n",
       "xxbos xxmaj this is another xxmaj universal fun filled fright fest . xxmaj many people want to compare it to xxmaj house xxmaj of xxmaj frankenstein . xxmaj even though it has similar cast and the same director it can stand on its xxunk does appear that xxmaj erle c xxmaj kenton directed most of the xxmaj universal horror films of the 40 's ) . \n",
       " \n",
       "  xxmaj the plot recap : xxmaj baron xxmaj xxunk appears at the home of xxmaj dr xxmaj xxunk seeking a \" cure \" for his vampirism . xxmaj larry xxmaj talbot ( who somehow survived xxmaj house xxup of xxmaj frankenstein ) also shows up at the good doctors door seeking a cure for his affliction . xxmaj after a failed suicide attempt xxmaj talbot and the doctor find the xxmaj frankenstein monster . xxmaj to complicate matters just before he bites the dust , xxmaj dracula infects the good doctor with his blood . xxmaj the doctor becomes a bloodthirsty maniac at certain times . xxmaj where this leads to is something you 'll have to see for your self . \n",
       " \n",
       "  xxmaj carradine actually gives a very good performance as xxmaj dracula . xxmaj he is n't chewing up the scenery as he will in later roles . xxmaj it is hard to repress giggles when he appears in a top hat though . xxmaj the cape / cloak is traditional but the hat has to go . xxmaj where does the hat go when he changes into a bat ... ? \n",
       " \n",
       "  xxmaj onslow xxmaj stevens gives an excellent portrayal of the doctor . xxmaj he 's torn between his basic kindness and the increasing blood lust he is now prone to . xxmaj this is a very underrated performance . xxmaj chaney brings even more life to the xxmaj wolf xxmaj man in his 4th appearance in that role . \n",
       " \n",
       "  xxmaj the monster is n't given much to do this time . xxmaj just lay on the table until the xxunk stock footage from the xxmaj ghost xxmaj of xxmaj frankenstein is xxunk least in xxmaj house xxmaj of xxmaj frankenstein he was up and around a bit . \n",
       " \n",
       "  xxmaj yes this does stick to the basic xxmaj universal pattern complete with the angry village mob running amok with torches . xxmaj but it is n't a bad way to spend an hour and ten minutes . xxmaj it gets a low 8 .,xxbos xxmaj the xxmaj stunts sequences ( as well as the xxmaj special xxmaj effects ) are xxmaj brilliant , in this movie . xxmaj michael xxmaj xxunk must be one of xxmaj xxunk xxup best xxmaj stunt xxmaj co - xxunk of all time . xxmaj the explosion in the xxmaj café , is a wonderful combination of xxmaj stunts , xxmaj special xxmaj effects xxup and xxmaj visual xxmaj effects . xxmaj the xxmaj director xxup had an idea , that the xxmaj crew managed to create on film . \n",
       " \n",
       "  xxmaj besides that ; xxmaj donald xxmaj sutherland makes one of his best performances in this film xxrep 7 .,xxbos xxmaj this is a very modest , very lovely movie with a great score by xxmaj hoagy xxmaj carmichael and xxmaj frank xxmaj loesser with a standout number , xxmaj we 're xxmaj the xxmaj couple xxmaj in xxmaj the xxmaj castle , that is totally evocative of the period and harks back to xxmaj penthouse xxmaj serenade just as the opening premise ( xxmaj hoppity 's coming ) may well have inspired xxmaj fred xxmaj xxunk and xxmaj yip xxmaj harburg 's opening ( xxmaj woody 's xxmaj coming ) in xxmaj finian 's xxmaj rainbow six years later . i totally agree with those posters who have noted that were the name xxmaj disney appended to this it would by now have achieved ' classic ' status rather than have fallen into neglect . xxmaj it 's wonderfully inventive , never more so than when objects barely noticed in the ' real ' world assume a much greater significance - both pro and con - in the insect world . xxmaj actually it xxup is a classic , albeit a minor one .,xxbos a team varied between xxmaj scully and xxmaj mulder , two other scientists , a pilot , and the guy who plays xxmaj bana on xxmaj seinfeld , go up to an xxmaj arctic research post where all members have died off by either killing each other or killing themselves . xxmaj they discover there 's a xxunk a xxunk that is parasitic to the point of madness and death . xxmaj the problem is , after a certain dog lashes out , anyone could be infected , but who ? xxmaj this is not just my favorite episode of season 1 , but also one of my favorites from the show . xxmaj the xxmaj arctic environment xxunk the characters and , of course like xxmaj carpenter 's the xxmaj thing , it 's a lot of fun watching these even - tempered characters suddenly start to flip out in dramatic scenes . xxmaj and the visual effects of the worm and its effects under the skin are cheesy , i did n't mind them at all . xxmaj the drama between the characters ends up working more than it would usually because of the tension and because all of the actors ( including the xxmaj bana guy ) understand what 's going on in the story . xxmaj and , as usual , i loved the ambiguity of the ending . xxmaj highly recommended .,xxbos xxmaj sharpe 's xxmaj honour for the uninitiated , is the fifth entry in a series of xxup tv movies focusing on an xxmaj english army rifleman during the xxmaj napoleonic wars and based on the books by xxmaj bernard xxmaj cornwell ( which i strongly recommend reading ) . xxmaj if you were to start by watching this particular one though , you 'd get the impression that xxmaj sharpe is not so much a soldier as the very xxunk force which the rest of the army revolves around . xxmaj should that be the case , i 'd recommend starting with earlier chapters like xxmaj sharpe 's xxmaj eagle or xxmaj sharpe 's xxmaj company , but this is a worthy choice for a second viewing . \n",
       " \n",
       "  xxmaj the story this time is all about the espionage side of things . xxmaj with the xxmaj french army retreating in disarray from xxmaj spain , xxmaj major xxmaj ducos , the slimy spy master spots an opportunity to turn the situation round . xxmaj by pinning the murder of a xxmaj spanish xxmaj xxunk on xxmaj richard xxmaj sharpe , hero of the xxmaj british army , the fragile xxmaj british / xxmaj spanish alliance will start to crumble and things will turn around again . xxmaj when the xxmaj spanish nobles come to xxmaj wellington crying for xxmaj sharpe 's blood though , the xxmaj english general is less than willing to hang his best soldier so fakes his death and soon , he 's off on a secret mission behind enemy lines to find out who masterminded the plot . xxmaj surprisingly enough for a xxmaj sharpe film as well , there 's a gorgeous woman to be rescued along the way , fancy that . \n",
       " \n",
       "  xxmaj what this results in of course is a more adventure style approach . xxmaj the concentration is less on the workings of the xxmaj english military with xxmaj sharpe as the figurehead and concentrates more on his escapades in the countryside , dodging xxmaj french patrols , hob xxunk with the xxmaj spanish guerrillas and getting involved in daring escapes from fortified military positions . xxmaj sergeant xxmaj harper , his loyal right hand man accompanies him naturally but the rest of the riflemen remain in the camp unaware their leader is still alive . xxmaj strangely enough though , they actually receive more attention than usual as they wind up in their own subplot involving the delivery of xxmaj harper 's baby . \n",
       " \n",
       "  xxmaj this slightly different approach makes for an intriguing episode but is only a good thing in the long run . xxmaj and should anyone be worried that there wo n't be the standard battle at the climax fret not , because once again the poor old xxmaj french get a right kicking . xxmaj furthermore , xxmaj ducos makes a fantastic successor to xxmaj xxunk xxmaj hakeswill as the bad guy you love to hate . xxmaj he is a duplicitous , malicious and absolutely evil son of a female canine and is also strangely reminiscent of that guy in black from out of xxmaj raiders of the xxmaj lost xxmaj ark. xxmaj elsewhere , xxmaj hagman stands out quite prominently as he gets the chance for more screen time and comes across as the sort of man you 'd want to deliver your first born , even if he does look like a member of xxmaj iron xxmaj maiden who got catapulted backwards in time by accident . \n",
       " \n",
       "  xxmaj in short then , another strong chapter in the xxmaj sharpe series . xxmaj sharpe remains as heroic as always but considerably more bitter and angry this time given the events in the previous film . xxmaj it 's not the best introduction if you 've not seen any of the other chapters but it does show a side to xxmaj sharpe that we do n't normally get to witness : the action hero rather than the professional soldier . xxmaj and if that 's not enough to get you tempted , it 's also worth watching just for the rather surreal sight of an enraged xxmaj sean xxmaj bean swinging a live chicken at a group of nuns .\n",
       "y: CategoryList\n",
       "pos,pos,pos,pos,pos\n",
       "Path: /home/jupyter/.fastai/data/imdb;\n",
       "\n",
       "Test: None, model=SequentialRNN(\n",
       "  (0): MultiBatchEncoder(\n",
       "    (module): AWD_LSTM(\n",
       "      (encoder): Embedding(60004, 400, padding_idx=1)\n",
       "      (encoder_dp): EmbeddingDropout(\n",
       "        (emb): Embedding(60004, 400, padding_idx=1)\n",
       "      )\n",
       "      (rnns): ModuleList(\n",
       "        (0): WeightDropout(\n",
       "          (module): LSTM(400, 1150, batch_first=True)\n",
       "        )\n",
       "        (1): WeightDropout(\n",
       "          (module): LSTM(1150, 1150, batch_first=True)\n",
       "        )\n",
       "        (2): WeightDropout(\n",
       "          (module): LSTM(1150, 400, batch_first=True)\n",
       "        )\n",
       "      )\n",
       "      (input_dp): RNNDropout()\n",
       "      (hidden_dps): ModuleList(\n",
       "        (0): RNNDropout()\n",
       "        (1): RNNDropout()\n",
       "        (2): RNNDropout()\n",
       "      )\n",
       "    )\n",
       "  )\n",
       "  (1): PoolingLinearClassifier(\n",
       "    (layers): Sequential(\n",
       "      (0): BatchNorm1d(1200, eps=1e-05, momentum=0.1, affine=True, track_running_stats=True)\n",
       "      (1): Dropout(p=0.2)\n",
       "      (2): Linear(in_features=1200, out_features=50, bias=True)\n",
       "      (3): ReLU(inplace)\n",
       "      (4): BatchNorm1d(50, eps=1e-05, momentum=0.1, affine=True, track_running_stats=True)\n",
       "      (5): Dropout(p=0.1)\n",
       "      (6): Linear(in_features=50, out_features=2, bias=True)\n",
       "    )\n",
       "  )\n",
       "), opt_func=functools.partial(<class 'torch.optim.adam.Adam'>, betas=(0.9, 0.99)), loss_func=FlattenedLoss of CrossEntropyLoss(), metrics=[<function accuracy at 0x7f91d550ba60>], true_wd=True, bn_wd=True, wd=0.01, train_bn=True, path=PosixPath('/home/jupyter/.fastai/data/imdb'), model_dir='models', callback_fns=[functools.partial(<class 'fastai.basic_train.Recorder'>, add_time=True, silent=False)], callbacks=[...], layer_groups=[Sequential(\n",
       "  (0): Embedding(60004, 400, padding_idx=1)\n",
       "  (1): EmbeddingDropout(\n",
       "    (emb): Embedding(60004, 400, padding_idx=1)\n",
       "  )\n",
       "), Sequential(\n",
       "  (0): WeightDropout(\n",
       "    (module): LSTM(400, 1150, batch_first=True)\n",
       "  )\n",
       "  (1): RNNDropout()\n",
       "), Sequential(\n",
       "  (0): WeightDropout(\n",
       "    (module): LSTM(1150, 1150, batch_first=True)\n",
       "  )\n",
       "  (1): RNNDropout()\n",
       "), Sequential(\n",
       "  (0): WeightDropout(\n",
       "    (module): LSTM(1150, 400, batch_first=True)\n",
       "  )\n",
       "  (1): RNNDropout()\n",
       "), Sequential(\n",
       "  (0): PoolingLinearClassifier(\n",
       "    (layers): Sequential(\n",
       "      (0): BatchNorm1d(1200, eps=1e-05, momentum=0.1, affine=True, track_running_stats=True)\n",
       "      (1): Dropout(p=0.2)\n",
       "      (2): Linear(in_features=1200, out_features=50, bias=True)\n",
       "      (3): ReLU(inplace)\n",
       "      (4): BatchNorm1d(50, eps=1e-05, momentum=0.1, affine=True, track_running_stats=True)\n",
       "      (5): Dropout(p=0.1)\n",
       "      (6): Linear(in_features=50, out_features=2, bias=True)\n",
       "    )\n",
       "  )\n",
       ")], add_time=True, silent=None)\n",
       "alpha: 2.0\n",
       "beta: 1.0], layer_groups=[Sequential(\n",
       "  (0): Embedding(60004, 400, padding_idx=1)\n",
       "  (1): EmbeddingDropout(\n",
       "    (emb): Embedding(60004, 400, padding_idx=1)\n",
       "  )\n",
       "), Sequential(\n",
       "  (0): WeightDropout(\n",
       "    (module): LSTM(400, 1150, batch_first=True)\n",
       "  )\n",
       "  (1): RNNDropout()\n",
       "), Sequential(\n",
       "  (0): WeightDropout(\n",
       "    (module): LSTM(1150, 1150, batch_first=True)\n",
       "  )\n",
       "  (1): RNNDropout()\n",
       "), Sequential(\n",
       "  (0): WeightDropout(\n",
       "    (module): LSTM(1150, 400, batch_first=True)\n",
       "  )\n",
       "  (1): RNNDropout()\n",
       "), Sequential(\n",
       "  (0): PoolingLinearClassifier(\n",
       "    (layers): Sequential(\n",
       "      (0): BatchNorm1d(1200, eps=1e-05, momentum=0.1, affine=True, track_running_stats=True)\n",
       "      (1): Dropout(p=0.2)\n",
       "      (2): Linear(in_features=1200, out_features=50, bias=True)\n",
       "      (3): ReLU(inplace)\n",
       "      (4): BatchNorm1d(50, eps=1e-05, momentum=0.1, affine=True, track_running_stats=True)\n",
       "      (5): Dropout(p=0.1)\n",
       "      (6): Linear(in_features=50, out_features=2, bias=True)\n",
       "    )\n",
       "  )\n",
       ")], add_time=True, silent=None)"
      ]
     },
     "execution_count": 16,
     "metadata": {},
     "output_type": "execute_result"
    }
   ],
   "source": [
    "learn.load('final')"
   ]
  },
  {
   "cell_type": "code",
   "execution_count": 17,
   "metadata": {},
   "outputs": [],
   "source": [
    "# must be called export.pkl and in specific directory\n",
    "learn.export(os.getcwd() + '/exported_models/language_classifier_learner/export.pkl')"
   ]
  },
  {
   "cell_type": "markdown",
   "metadata": {},
   "source": [
    "# use gsutil to copy models to project storage"
   ]
  },
  {
   "cell_type": "code",
   "execution_count": 18,
   "metadata": {},
   "outputs": [
    {
     "name": "stdout",
     "output_type": "stream",
     "text": [
      "Copying file:///home/jupyter/exported_models/language_model_learner/export.pkl [Content-Type=application/octet-stream]...\n",
      "==> NOTE: You are uploading one or more large file(s), which would run\n",
      "significantly faster if you enable parallel composite uploads. This\n",
      "feature can be enabled by editing the\n",
      "\"parallel_composite_upload_threshold\" value in your .boto\n",
      "configuration file. However, note that if you do this large files will\n",
      "be uploaded as `composite objects\n",
      "<https://cloud.google.com/storage/docs/composite-objects>`_,which\n",
      "means that any user who downloads such objects will need to have a\n",
      "compiled crcmod installed (see \"gsutil help crcmod\"). This is because\n",
      "without a compiled crcmod, computing checksums on composite objects is\n",
      "so slow that gsutil disables downloads of composite objects.\n",
      "\n",
      "|\n",
      "Operation completed over 1 objects/170.9 MiB.                                    \n",
      "Copying file:///home/jupyter/exported_models/language_classifier_learner/export.pkl [Content-Type=application/octet-stream]...\n",
      "==> NOTE: You are uploading one or more large file(s), which would run\n",
      "significantly faster if you enable parallel composite uploads. This\n",
      "feature can be enabled by editing the\n",
      "\"parallel_composite_upload_threshold\" value in your .boto\n",
      "configuration file. However, note that if you do this large files will\n",
      "be uploaded as `composite objects\n",
      "<https://cloud.google.com/storage/docs/composite-objects>`_,which\n",
      "means that any user who downloads such objects will need to have a\n",
      "compiled crcmod installed (see \"gsutil help crcmod\"). This is because\n",
      "without a compiled crcmod, computing checksums on composite objects is\n",
      "so slow that gsutil disables downloads of composite objects.\n",
      "\n",
      "|\n",
      "Operation completed over 1 objects/170.0 MiB.                                    \n"
     ]
    }
   ],
   "source": [
    "!gsutil cp /home/jupyter/exported_models/language_model_learner/export.pkl gs://fastai-nlp/exported_models/language_model_learner/export.pkl\n",
    "!gsutil cp /home/jupyter/exported_models/language_classifier_learner/export.pkl gs://fastai-nlp/exported_models/language_classifier_learner/export.pkl\n"
   ]
  }
 ],
 "metadata": {
  "kernelspec": {
   "display_name": "Python 3",
   "language": "python",
   "name": "python3"
  },
  "language_info": {
   "codemirror_mode": {
    "name": "ipython",
    "version": 3
   },
   "file_extension": ".py",
   "mimetype": "text/x-python",
   "name": "python",
   "nbconvert_exporter": "python",
   "pygments_lexer": "ipython3",
   "version": "3.7.0"
  }
 },
 "nbformat": 4,
 "nbformat_minor": 2
}
